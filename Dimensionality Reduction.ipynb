{
 "cells": [
  {
   "cell_type": "markdown",
   "id": "iraqi-characteristic",
   "metadata": {},
   "source": [
    "# Dimensionality Reduction\n",
    "\n",
    "The purpose of following notebook is to gain understanding and exploring methods for dimensionality reduction. "
   ]
  },
  {
   "cell_type": "markdown",
   "id": "earlier-flash",
   "metadata": {},
   "source": [
    "### Curse of dimensionality\n",
    "As the number of features grow large, training will be slow and finding a good solution can be hard. "
   ]
  }
 ],
 "metadata": {
  "kernelspec": {
   "display_name": "Python 3",
   "language": "python",
   "name": "python3"
  },
  "language_info": {
   "codemirror_mode": {
    "name": "ipython",
    "version": 3
   },
   "file_extension": ".py",
   "mimetype": "text/x-python",
   "name": "python",
   "nbconvert_exporter": "python",
   "pygments_lexer": "ipython3",
   "version": "3.8.5"
  }
 },
 "nbformat": 4,
 "nbformat_minor": 5
}
